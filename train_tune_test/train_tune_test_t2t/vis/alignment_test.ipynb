{
 "cells": [
  {
   "cell_type": "code",
   "execution_count": 1,
   "metadata": {
    "collapsed": true
   },
   "outputs": [],
   "source": [
    "import json\n",
    "import os\n",
    "import yaml\n",
    "import numpy as np\n",
    "import sys"
   ]
  },
  {
   "cell_type": "code",
   "execution_count": 2,
   "metadata": {
    "collapsed": false
   },
   "outputs": [],
   "source": [
    "%%bash\n",
    "s=som\n",
    "t=eng\n",
    "use_lex=\"\"\n",
    "source ../../../config.sh $s $t\n",
    "train_src=$trans_dir/train/${src_label}_raw${use_lex}.$s.train.$yrv\n",
    "dev_src=$trans_dir/dev/${src_label}_raw.$s.dev.$yrv\n",
    "train_tgt=$trans_dir/train/${ref_label}_raw${use_lex}.$t.train.$yrv\n",
    "dev_tgt=$trans_dir/dev/${ref_label}_raw.$t.dev.$yrv\n",
    "echo \"train_src: $train_src\" > config_local3.yml\n",
    "echo \"dev_src: $dev_src\" >> config_local3.yml\n",
    "echo \"train_tgt: $train_tgt\" >> config_local3.yml\n",
    "echo \"dev_tgt: $dev_tgt\" >> config_local3.yml"
   ]
  },
  {
   "cell_type": "code",
   "execution_count": 3,
   "metadata": {
    "collapsed": true
   },
   "outputs": [],
   "source": [
    "with open(\"config_local3.yml\") as f:\n",
    "    config = yaml.load(f)\n",
    "train_src = config[\"train_src\"]\n",
    "dev_src = config[\"dev_src\"]\n",
    "train_tgt = config[\"train_tgt\"]\n",
    "dev_tgt = config[\"dev_tgt\"]"
   ]
  },
  {
   "cell_type": "code",
   "execution_count": 5,
   "metadata": {
    "collapsed": false
   },
   "outputs": [
    {
     "name": "stdout",
     "output_type": "stream",
     "text": [
      "89915\n",
      "89915\n",
      "['author', 'topic', ':', 'sirta', 'caafimaadka', 'iyo', 'soonka', '!', 'dr', 'saadiq']\n",
      "[['author', 'swine', 'untranslated'], ['topic', 'untranslated', 'swine'], [':', 'untranslated', '...', '.', '#', '…', '?', 'me', 'read', 'urgent', 'colonel', 'things', 'example', 'diabetes', 'abdirisaaq', 'prof.', '-', 'written', 'images', 'yasmin', 'hon.', 'article', '..', 'amp', 'nn', 'performed', 'equipping', 'retaliatory', 'retaliating', 'cholesterol', 'profile', 'swine', 'question', 'prostate', 'chickenpox', 'shingles', 'replied', 'organ', 'back', 'amphetamine', 'answers', 'b.', 'aboto', 'elevated', 'method', 'osteoporosis', 'gastritis', 'clarifying', 'conjunctivitis', 'mouths', 'types', 'stagnant', 'mobiles', 'iron', 'photos', 'professor', 'loses', 'wife', 'prof', 'petrol', 'said', '-by', 'morals', 'raising', 'weapons', 'galaydh', 'springs', 'reader', 'engineer', 'roberts', 'eng', 'hamud', 'listen', 'kiev', 'tattooing', 'djiboutian', 'menelik', 'imprisonment', 'godad', 'temple', 'plea', 'verdict', 'section', 'poem', 'rise', 'commander', 'francesco', 'impeachment', 'ayan', 'gaalkacyo', 'influential', 'boss', 'scolded', 'labanlaab', 'where', 'test', 'tahliil', 'unities', 'currency', 'watched', 'let', 'saddam', 'roble', 'supplemental', 'qoryale', 'got', 'sends', 'women', 'sa', 'lowered', 'consulting', 'satisfied', 'du', 'translation', 'move', 'najma', 'sultan', 'videos', 'pictured', 'victories', 'seinab', 'al-mugamisy', 'conduct', 'friend', '&#93;', 'الإسم', 'watch', 'fataawaha', 'mogadishu-feb-21', 'maylow', 'dates', 'dalxa', 'qashi', 'sahur', 'chasing', 'khat', 'paralympics', 'the', 'alcaamiri', 'has', 'ends', 'vs', 'for.', 'happy', 'release.', 'peace', 'hurricanes', 'recount', '11.00'], ['secrets', 'the', 'where', 'called', '.', 'secretive', 'secrecy', '&apos;', 's'], ['health', 'of', 'medical', 'healthcare', 'healthy', 'the', 'nurse', 'nearest', 'staff', 'education', 'students', 'inflammation', 'heathy', 'graduated', 'his', 'without', 'hospitals', 'midwifery', 'who', 'ministry', 'sector', 'akhter', 'medicare', 'teams', 'fads', 'medics'], ['and', 'since', 'or', ',', 'with', 'far', 'up', 'well', 'until', 'along', 'as', 'patience', 'always', 'very', 'development', 'iyo', 'whether', 'bad', 'life', 'prosperity', 'yet', 'storms', 'between', 'twenty', 'fifteen', 'fight', 'nor', 'transportation', 'citizenship', 'those', 'eleven', 'ten', 'truth', 'forestry', 'bahararsame', 'our', 'tribalism', 'religion', 'dozen', 'compliments', 'till', 'offspring', '118', 'advice', 'showed', 'shame', 'labour', 'now', 'happiness', 'other', 'its', 'sandule', 'social', 'religious', 'justice', 'accompanied', 'alshabab', '’', 'protect', 'million', 'fourteen', 'mothers', 'memory', 'soap', 'infants', 'congestion', 'rare', '500', 'khatumo', 'dignity', 'bringing', 'congratulations', 'brotherhood', 'competition', 'losses', 'wife', 'shops', 'knowledge', 'crazy', 'relationship', 'precipitation', 'resulting', 'objective', 'unity', 'reflection', 'boondheere', 'afgooye', 'doing', 'bay', 'intersections', 'conservative', 'jawari', 'relations', 'experience', 'international', 'hereafter', 'inspectors', 'forgiveness', 'inexpressible', 'beggar', 'labor', 'officers', 'thirty', 'gaalkacyo', 'point', 'versus', 'green', 'disastrous', 'integrity', 'newspaper', 'somaliland', 'value', 'ones', 'level', 'counter-accusations', 'aviation', 'propaganda', 'education', 'electricity', 'delivery', 'safety', 'hrithik', 'felicitations', 'of', 'marchisio', 'stealing', '11,200', 'caicos', 'cornfield', 'fenugreek', '1987', '1967', '1986', 'secrets', 'gastrointestinal', 'insects', 'drugs', 'recompensing', 'blisters', 'painful', 'occupies', 'dry-mouth', 'feel', 'forgetting', 'helpful', 'fox-tooth', 'butter', 'prevent', 'tied', 'cough', '5453', 'rubella', 'thirst', 'doctor', 'etc', 'reappearing', 'iv', 'meningitis', 'chocolates', 'heartburns', 'the', 'masturbation', 'nerve', 'bend', 'tonsillitis', 'tests', 'hereri', 'minster', 'stabilizing', 'horrifying', 'buhoodle', 'criteria', 'disruption', 'deceitful', 'columbus', 'flew', 'flowing', 'believes', 'godaalo', 'forums', 'idor', 'dinner', 'thousand', 'weeping', 'aga-lul', 'burning', 'meeting', 'kid', 'attempt', 'impressed', 'shouting', 'night', '-elders', 'bah-hararsame', 'installation', 'trapped', 'experienced', '-are', 'afternoon', 'mineral', 'galkacyo', 'a-mukaramah', 'focus', 'inflicted', 'assisting', 'abundance', 'emissaries', 'flag', 'hot', 'sides', 'imprisonment', 'idea', 'visual', 'official', 'failures', 'sign', 'tense', 'failed', 'causing', 'brought', 'qorilay', '41.3', 'carried', 'youth', 'hate', 'eats', 'leaving', 'smoke', 'noticed', 'commanders', 'implemented', 'harufadhi', 'far-hareri', 'implementation', 'rifles', 'bondhere', 'no', '4', 'war', 'intelligence', 'disgrace', 'centre', 'dozens', 'arabian', 'intercepted', 'niqabs', 'festivities', 'opportunities', 'shelling', 'takers', 'seventy-eight', 'afad', 'acupuncture', 'twenty-some-odd', 'handover', 'politics', 'urge', '6000', 'diplomatic', 'blancos', 'scale', 'biased', 'skelemani', 'acp', 'rounds', 'bicycles', 'regions', 'dismissed', 'neither', 'amended', 'commander', 'punishment', 'forum', 'gripping', 'kemant', 'wandering-claimer', 'calculations', 'expectations', 'thiscaused', 'balad-weyne', 'baled-weyne', 'directions', 'gallbladder', 'complex', 'wonders', 'bothers', 'income', 'munya', 'violent', 'getting', 'winners', 'universities', 'archive', 'thirteenth', 'cared', 'poetry', 'malkad', 'anarchy', '1956', 'culture', 'writers', 'clash', 'dried', 'patriotic', 'levels', 'deception', 'humiliation', 'shield', 'torso', 'obtained', 'him', 'eighteen-year-old', 'chains', 'arguments', 'armpit', 'talents', 'semblance', 'perfectly', 'guide', 'illuminates', 'iwm', 'bangladeshis', 'patriots', 'factionalism', 'generation', 'peace', 'neo-colonized', 'everybody', 'payne', 'cheers', 'subcommittee', 'soils', 'for', 'injustice', 'joyfully', 'medal', 'fair', 'looting', 'properties', 'formation', 'riyale', 'destruction', 'adha', 'bihi', 'teylane', 'delegations', 'dabey', 'sports', '.', 'laws', 'gratitude', 'resources', 'ethiopia-somaliland', 'atmosphere', 'districts', 'rumor', 'onus', 'burden', 'literacy', 'prays', 'opposition', 'wishes', 'revising', 'aim', 'corruption', 'values', 'awareness', 'wisdom', 'encourage', 'street', 'timely', 'hearts', 'positioning', 'century', 'hardness', 'affection', 'represent', 'awqaf', 'weli', 'is', 'gender', 'farther', 'angry', 'intimidated', 'stables', 'rulers', 'remembrance', 'donor', 'poems', 'storm', 'zakat', 'fast', 'di', 'plane', 'property', 'displacement.', 'bah', 'uncle', 'helping', 'almighty', 'juve', 'siilanyo', 'gravel', 'sudheer', 'adan', 'athiya', 'softener', 'laptops', 'azhar', 'rai', 'akshey', 'your', 'morata', 'parents', 'certificate', 'awarded', 'resemble', 'sitting', 'lord', 'biography', 'their', 'wd44gdoghu', 'sampa', 'kaif', 'srk', 'dekho', 'sidharth', 'ring', 'xalimo', 'self-esteem', '13-year-old', 'kafr', 'schoolboys', 'recalcitrant', '55-year-old', 'muscat', 'gusts', 'intensified', 'drought-', 'threefold', 'razing', '249', '13-0', 'slashed', 'nepalese', 'search-and-rescue', 'titles', 'wide', 'indignity', 'secrecy', 'us-russian', 'sailor', 'bustling', 'grams', '26-year-old', 'cumin', '1950s', 'sand', '18-hole', 'unencumbered', 'indictment', 'well-born', '470th', 'much', '1983', '1985', '12', 'aug.', 'wellington', 'kawmu', 'quarter', 'thirty-five', 'seventeen', 'sandwiches'], ['fasting', 'the', 'of', 'fast', 'secrets', 'in', 'during', 'put', 'gondar', 'wills'], ['!', '.', '?', 'untranslated', 'move', 'antibiotics', 'liked', 'investment', '1955', 'togetherness', 'worry', 'backbiting', 'mancehster', 'time', 'careful', 'fingers', 'queen', 'hawiye', 'lounge', 'desperate', 'obstacles', 'vouches', 'mosque', '1920', 'choices', 'jiifto', 'problem', 'center', 'word', 'existed', 'hadrawi', 'empty', 'art', 'okay', 'looks', 'adopt', 'clothes', 'dhamays', 'marriage', 'obsessed', 'mistake', 'wonderful', 'understanding', 'guarded', 'box', 'ibsfsxkp2x', 'burden', 'falsehood', 'person', 'hinderence', 'bosasobeach'], ['dr.', 'dr', 'be', 'you', 'doctor', 'upon', 'greetings', '!', 'peace', '...........', 'vaseline', 'of', 'allah', 'with', ',', 'twinning', 'been', 'y2wdgk5ndv'], ['sadiq', 'saadiq']]\n"
     ]
    }
   ],
   "source": [
    "from collections import OrderedDict\n",
    "\n",
    "alignment_dict = dict()\n",
    "alignment_file = os.path.abspath(os.path.join(train_src, \"..\", \"..\", \"..\", \"model\", \"train\", \"model\", \"aligned.grow-diag-final-and\"))\n",
    "with open(train_src) as f_src, open(train_tgt) as f_tgt, open(alignment_file) as f_a:\n",
    "    for l_src in f_src:\n",
    "        l_src = l_src.strip().split(' ')\n",
    "        l_tgt = f_tgt.readline().strip().split(' ')\n",
    "        l_a = f_a.readline().strip().split(' ')\n",
    "        for pair in l_a:\n",
    "            pos_src = int(pair.split('-')[0])\n",
    "            pos_tgt = int(pair.split('-')[1])\n",
    "            assert(pos_src<len(l_src))\n",
    "            assert(pos_tgt<len(l_tgt))\n",
    "            src_word = l_src[pos_src].lower() # src_word in lower case\n",
    "            tgt_word = l_tgt[pos_tgt].lower() # tgt_word in lower case\n",
    "            if src_word not in alignment_dict:\n",
    "                alignment_dict[src_word] = {tgt_word:1}\n",
    "            else:\n",
    "                if tgt_word in alignment_dict[src_word]:\n",
    "                    alignment_dict[src_word][tgt_word] += 1\n",
    "                else:\n",
    "                    alignment_dict[src_word][tgt_word] = 1\n",
    "\n",
    "print(len(alignment_dict))\n",
    "alignment_dict_ordered = dict()\n",
    "for k,v in alignment_dict.items():\n",
    "    alignment_dict_ordered[k] = OrderedDict(sorted(v.items(),key=lambda t:-t[1]))\n",
    "    alignment_dict_ordered[k] = list(alignment_dict_ordered[k].keys())\n",
    "print(len(alignment_dict_ordered))\n",
    "\n",
    "ks = []\n",
    "vs = []\n",
    "for k,v in alignment_dict_ordered.items():\n",
    "    ks.append(k)\n",
    "    vs.append(v)\n",
    "print(ks[:10])\n",
    "print(vs[:10])"
   ]
  },
  {
   "cell_type": "code",
   "execution_count": null,
   "metadata": {
    "collapsed": true
   },
   "outputs": [],
   "source": []
  }
 ],
 "metadata": {
  "kernelspec": {
   "display_name": "Python 3",
   "language": "python",
   "name": "python3"
  },
  "language_info": {
   "codemirror_mode": {
    "name": "ipython",
    "version": 3
   },
   "file_extension": ".py",
   "mimetype": "text/x-python",
   "name": "python",
   "nbconvert_exporter": "python",
   "pygments_lexer": "ipython3",
   "version": "3.6.0"
  }
 },
 "nbformat": 4,
 "nbformat_minor": 2
}
