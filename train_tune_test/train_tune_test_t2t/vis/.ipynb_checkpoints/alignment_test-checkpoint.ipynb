{
 "cells": [
  {
   "cell_type": "code",
   "execution_count": 1,
   "metadata": {
    "collapsed": true
   },
   "outputs": [],
   "source": [
    "import json\n",
    "import os\n",
    "import yaml\n",
    "import numpy as np\n",
    "import sys"
   ]
  },
  {
   "cell_type": "code",
   "execution_count": 2,
   "metadata": {
    "collapsed": false
   },
   "outputs": [],
   "source": [
    "%%bash\n",
    "s=som\n",
    "t=eng\n",
    "use_lex=\"\"\n",
    "source ../../../config.sh $s $t\n",
    "train_src=$trans_dir/train/${src_label}_raw${use_lex}.$s.train.$yrv\n",
    "dev_src=$trans_dir/dev/${src_label}_raw.$s.dev.$yrv\n",
    "train_tgt=$trans_dir/train/${ref_label}_raw${use_lex}.$t.train.$yrv\n",
    "dev_tgt=$trans_dir/dev/${ref_label}_raw.$t.dev.$yrv\n",
    "echo \"train_src: $train_src\" > config_local3.yml\n",
    "echo \"dev_src: $dev_src\" >> config_local3.yml\n",
    "echo \"train_tgt: $train_tgt\" >> config_local3.yml\n",
    "echo \"dev_tgt: $dev_tgt\" >> config_local3.yml"
   ]
  },
  {
   "cell_type": "code",
   "execution_count": 3,
   "metadata": {
    "collapsed": true
   },
   "outputs": [],
   "source": [
    "with open(\"config_local3.yml\") as f:\n",
    "    config = yaml.load(f)\n",
    "train_src = config[\"train_src\"]\n",
    "dev_src = config[\"dev_src\"]\n",
    "train_tgt = config[\"train_tgt\"]\n",
    "dev_tgt = config[\"dev_tgt\"]"
   ]
  },
  {
   "cell_type": "code",
   "execution_count": 4,
   "metadata": {
    "collapsed": false
   },
   "outputs": [
    {
     "name": "stdout",
     "output_type": "stream",
     "text": [
      "89915\n",
      "89915\n"
     ]
    }
   ],
   "source": [
    "from collections import OrderedDict\n",
    "\n",
    "alignment_dict = dict()\n",
    "alignment_file = os.path.abspath(os.path.join(train_src, \"..\", \"..\", \"..\", \"model\", \"train\", \"model\", \"aligned.grow-diag-final-and\"))\n",
    "with open(train_src) as f_src, open(train_tgt) as f_tgt, open(alignment_file) as f_a:\n",
    "    for l_src in f_src:\n",
    "        l_src = l_src.strip().split(' ')\n",
    "        l_tgt = f_tgt.readline().strip().split(' ')\n",
    "        l_a = f_a.readline().strip().split(' ')\n",
    "        for pair in l_a:\n",
    "            pos_src = int(pair.split('-')[0])\n",
    "            pos_tgt = int(pair.split('-')[1])\n",
    "            assert(pos_src<len(l_src))\n",
    "            assert(pos_tgt<len(l_tgt))\n",
    "            src_word = l_src[pos_src].lower() # src_word in lower case\n",
    "            tgt_word = l_tgt[pos_tgt].lower() # tgt_word in lower case\n",
    "            if src_word not in alignment_dict:\n",
    "                alignment_dict[src_word] = {tgt_word:1}\n",
    "            else:\n",
    "                if tgt_word in alignment_dict[src_word]:\n",
    "                    alignment_dict[src_word][tgt_word] += 1\n",
    "                else:\n",
    "                    alignment_dict[src_word][tgt_word] = 1\n",
    "\n",
    "print(len(alignment_dict))\n",
    "alignment_dict_ordered = dict()\n",
    "for k,v in alignment_dict.items():\n",
    "    alignment_dict_ordered[k] = OrderedDict(sorted(v.items(),key=lambda t:-t[1]))\n",
    "    alignment_dict_ordered[k] = list(alignment_dict_ordered[k].keys())\n",
    "print(len(alignment_dict_ordered))\n",
    "for k,v in alignment_dict_ordered.items():\n",
    "    print(k)\n",
    "    print(v)\n",
    "    break"
   ]
  },
  {
   "cell_type": "code",
   "execution_count": null,
   "metadata": {
    "collapsed": true
   },
   "outputs": [],
   "source": []
  }
 ],
 "metadata": {
  "kernelspec": {
   "display_name": "Python 3",
   "language": "python",
   "name": "python3"
  },
  "language_info": {
   "codemirror_mode": {
    "name": "ipython",
    "version": 3
   },
   "file_extension": ".py",
   "mimetype": "text/x-python",
   "name": "python",
   "nbconvert_exporter": "python",
   "pygments_lexer": "ipython3",
   "version": "3.6.0"
  }
 },
 "nbformat": 4,
 "nbformat_minor": 2
}
