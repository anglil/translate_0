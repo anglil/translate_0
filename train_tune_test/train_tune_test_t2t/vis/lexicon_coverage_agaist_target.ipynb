{
 "cells": [
  {
   "cell_type": "code",
   "execution_count": 6,
   "metadata": {
    "collapsed": true
   },
   "outputs": [],
   "source": [
    "import json\n",
    "import os\n",
    "import yaml\n",
    "import numpy as np\n",
    "import sys\n",
    "from seq2seq.data import vocab"
   ]
  },
  {
   "cell_type": "code",
   "execution_count": 21,
   "metadata": {
    "collapsed": true
   },
   "outputs": [],
   "source": [
    "%%bash\n",
    "s=vie\n",
    "t=eng\n",
    "use_lex=\"\"\n",
    "source ../../../config.sh $s $t\n",
    "train_src=$trans_dir/train/${src_label}_raw${use_lex}.$s.train.$yrv\n",
    "dev_src=$trans_dir/dev/${src_label}_raw.$s.dev.$yrv\n",
    "train_tgt=$trans_dir/train/${ref_label}_raw${use_lex}.$t.train.$yrv\n",
    "dev_tgt=$trans_dir/dev/${ref_label}_raw.$t.dev.$yrv\n",
    "echo \"train_src: $train_src\" > config_local2.yml\n",
    "echo \"dev_src: $dev_src\" >> config_local2.yml\n",
    "echo \"train_tgt: $train_tgt\" >> config_local2.yml\n",
    "echo \"dev_tgt: $dev_tgt\" >> config_local2.yml\n",
    "echo \"bilingual_lexicon: $bilingual_lexicon\" >> config_local2.yml"
   ]
  },
  {
   "cell_type": "code",
   "execution_count": 22,
   "metadata": {
    "collapsed": false
   },
   "outputs": [],
   "source": [
    "with open(\"config_local2.yml\") as f:\n",
    "    config = yaml.load(f)\n",
    "train_src = config[\"train_src\"]\n",
    "dev_src = config[\"dev_src\"]\n",
    "train_tgt = config[\"train_tgt\"]\n",
    "dev_tgt = config[\"dev_tgt\"]\n",
    "bilingual_lexicon = config[\"bilingual_lexicon\"]"
   ]
  },
  {
   "cell_type": "code",
   "execution_count": 23,
   "metadata": {
    "collapsed": false
   },
   "outputs": [
    {
     "name": "stdout",
     "output_type": "stream",
     "text": [
      "num_tok_src_hit: 303983\n",
      "num_tok_src: 443095\n",
      "0.6860447533824575\n",
      "set_tok_src_hit: 10292\n",
      "set_tok_src: 17632\n",
      "0.5837114337568058\n"
     ]
    }
   ],
   "source": [
    "def pad_to_lex_cap(lex_list, lex_cap):\n",
    "    return np.tile(lex_list, int(lex_cap/len(lex_list))+1)[:lex_cap]\n",
    "lexicon_dict = vocab.get_lexicon_dict(bilingual_lexicon)\n",
    "\n",
    "num_tok_src_hit = 0 \n",
    "num_tok_src = 0\n",
    "set_tok_src_hit = set()\n",
    "set_tok_src = set()\n",
    "\n",
    "with open(train_src) as f_src, open(train_tgt) as f_tgt:\n",
    "    for l_src in f_src:\n",
    "        l_src = l_src.strip().split()\n",
    "        l_tgt = set(f_tgt.readline().strip().split())\n",
    "        \n",
    "        for tok_src in l_src:\n",
    "            num_tok_src += 1\n",
    "            set_tok_src.add(tok_src)\n",
    "            if tok_src in l_tgt:\n",
    "                num_tok_src_hit += 1\n",
    "                set_tok_src_hit.add(tok_src)\n",
    "            else:\n",
    "                if tok_src in lexicon_dict:\n",
    "                    for tok_src_trans in lexicon_dict[tok_src]:\n",
    "                        if tok_src_trans in l_tgt:\n",
    "                            num_tok_src_hit += 1\n",
    "                            set_tok_src_hit.add(tok_src)\n",
    "print(\"num_tok_src_hit: {0}\".format(num_tok_src_hit))\n",
    "print(\"num_tok_src: {0}\".format(num_tok_src))      \n",
    "print(str(num_tok_src_hit*1.0/num_tok_src))\n",
    "print(\"set_tok_src_hit: {0}\".format(len(set_tok_src_hit)))        \n",
    "print(\"set_tok_src: {0}\".format(len(set_tok_src)))\n",
    "print(str(len(set_tok_src_hit)*1.0/len(set_tok_src)))"
   ]
  },
  {
   "cell_type": "code",
   "execution_count": null,
   "metadata": {
    "collapsed": true
   },
   "outputs": [],
   "source": []
  }
 ],
 "metadata": {
  "kernelspec": {
   "display_name": "Python 3",
   "language": "python",
   "name": "python3"
  },
  "language_info": {
   "codemirror_mode": {
    "name": "ipython",
    "version": 3
   },
   "file_extension": ".py",
   "mimetype": "text/x-python",
   "name": "python",
   "nbconvert_exporter": "python",
   "pygments_lexer": "ipython3",
   "version": "3.6.0"
  }
 },
 "nbformat": 4,
 "nbformat_minor": 2
}
