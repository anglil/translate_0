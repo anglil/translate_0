{
 "cells": [
  {
   "cell_type": "code",
   "execution_count": 1,
   "metadata": {
    "collapsed": true
   },
   "outputs": [],
   "source": [
    "from __future__ import absolute_import\n",
    "from __future__ import division\n",
    "from __future__ import print_function\n",
    "\n",
    "import json\n",
    "\n",
    "import tensorflow as tf\n",
    "import numpy as np\n",
    "\n",
    "from tensor2tensor.utils import trainer_utils as utils\n",
    "from tensor2tensor.visualization import attention"
   ]
  },
  {
   "cell_type": "code",
   "execution_count": 2,
   "metadata": {
    "collapsed": false
   },
   "outputs": [
    {
     "data": {
      "application/javascript": [
       "require.config({\n",
       "  paths: {\n",
       "      d3: '//cdnjs.cloudflare.com/ajax/libs/d3/3.4.8/d3.min'\n",
       "  }\n",
       "});"
      ],
      "text/plain": [
       "<IPython.core.display.Javascript object>"
      ]
     },
     "metadata": {},
     "output_type": "display_data"
    }
   ],
   "source": [
    "%%javascript\n",
    "require.config({\n",
    "  paths: {\n",
    "      d3: '//cdnjs.cloudflare.com/ajax/libs/d3/3.4.8/d3.min'\n",
    "  }\n",
    "});"
   ]
  },
  {
   "cell_type": "code",
   "execution_count": 3,
   "metadata": {
    "collapsed": false
   },
   "outputs": [],
   "source": [
    "%%bash\n",
    "s=il3\n",
    "t=eng\n",
    "source ../../config.sh $s $t\n",
    "echo \"exp_dir: $exp_dir\" > config_local.yml\n",
    "echo \"s: $s\" >> config_local.yml\n",
    "echo \"t: $t\" >> config_local.yml\n",
    "echo \"trans_dir: $trans_dir\" >> config_local.yml\n",
    "\n"
   ]
  },
  {
   "cell_type": "code",
   "execution_count": 6,
   "metadata": {
    "collapsed": false
   },
   "outputs": [],
   "source": [
    "import yaml\n",
    "with open(\"config_local.yml\") as f:\n",
    "    config = yaml.load(f)\n",
    "exp_dir = config[\"exp_dir\"]\n",
    "s = config[\"s\"]\n",
    "t = config[\"t\"]\n",
    "trans_dir = config[\"trans_dir\"]\n",
    "\n",
    "merge_ops = \"inf\"\n",
    "use_lex = \"\"\n",
    "dim = 1024\n",
    "lr = 0.1\n",
    "dropout = 0.0\n",
    "layer = 2"
   ]
  },
  {
   "cell_type": "code",
   "execution_count": 28,
   "metadata": {
    "collapsed": false
   },
   "outputs": [],
   "source": [
    "import os\n",
    "# PUT THE MODEL YOU WANT TO LOAD HERE!\n",
    "if merge_ops == \"inf\":\n",
    "    problem_id = \"translate_\"+s+t+\"_lrlp80008000\"\n",
    "elif \"-\" in merge_ops:\n",
    "    merge_ops_s = merge_ops.split(\"-\")[0]\n",
    "    merge_ops_t = merge_ops.split(\"-\")[1]\n",
    "    problem_id = \"translate_\"+s+t+\"_lrlp\"+merge_ops_s+merge_ops_t+\"bpe\"\n",
    "else:\n",
    "    problem_id = \"translate_\"+s+t+\"_lrlp\"+merge_ops+\"bpe\"\n",
    "    \n",
    "t2t_data_dir = os.path.join(trans_dir, \"t2t_\"+merge_ops+use_lex)\n",
    "t2t_model_dir = os.path.join(exp_dir, \"_\".join([\"t2t\", \"dim\"+str(dim), \"layer\"+]))\n",
    "\n",
    "PROBLEM = problem_id\n",
    "MODEL = 'transformer'\n",
    "HPARAMS = 'transformer_all'\n",
    "\n",
    "DATA_DIR = t2t_data_dir\n",
    "TRAIN_DIR=os.path.expanduser('~/t2t_train/%s/%s-%s' % (PROBLEM, MODEL, HPARAMS))\n",
    "print(TRAIN_DIR)\n",
    "\n",
    "FLAGS = tf.flags.FLAGS\n",
    "FLAGS.problems = PROBLEM\n",
    "FLAGS.hparams_set = HPARAMS\n",
    "FLAGS.data_dir = DATA_DIR\n",
    "FLAGS.model = MODEL"
   ]
  },
  {
   "cell_type": "code",
   "execution_count": 29,
   "metadata": {
    "collapsed": false
   },
   "outputs": [
    {
     "name": "stdout",
     "output_type": "stream",
     "text": [
      "/home/ec2-user/kklab/Projects/lrlp/experiment_2017.08.04.vie-eng.y1r1.v2\n",
      "vie\n"
     ]
    }
   ],
   "source": [
    "import yaml\n",
    "with open(\"jk\") as f:\n",
    "    conf = yaml.load(f)\n",
    "print(conf[\"exp_dir\"])\n",
    "print(conf[\"s\"])"
   ]
  },
  {
   "cell_type": "code",
   "execution_count": null,
   "metadata": {
    "collapsed": true
   },
   "outputs": [],
   "source": []
  }
 ],
 "metadata": {
  "kernelspec": {
   "display_name": "Python 3",
   "language": "python",
   "name": "python3"
  },
  "language_info": {
   "codemirror_mode": {
    "name": "ipython",
    "version": 3
   },
   "file_extension": ".py",
   "mimetype": "text/x-python",
   "name": "python",
   "nbconvert_exporter": "python",
   "pygments_lexer": "ipython3",
   "version": "3.6.0"
  }
 },
 "nbformat": 4,
 "nbformat_minor": 2
}
