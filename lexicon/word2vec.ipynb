{
 "cells": [
  {
   "cell_type": "code",
   "execution_count": 1,
   "metadata": {
    "collapsed": true
   },
   "outputs": [],
   "source": [
    "# load word2vec\n",
    "import gensim\n",
    "import sys\n",
    "word2vec_mat = \"/home/ec2-user/kklab/data/word2vec/GoogleNews-vectors-negative300.bin\"\n",
    "model = gensim.models.KeyedVectors.load_word2vec_format(word2vec_mat, binary=True)"
   ]
  },
  {
   "cell_type": "code",
   "execution_count": 2,
   "metadata": {
    "collapsed": true
   },
   "outputs": [],
   "source": [
    "# load glove\n",
    "import os\n",
    "def load_glove(dim):\n",
    "    '''\n",
    "    load glove into a dictionary\n",
    "    '''\n",
    "    glove_dir = \"/home/ec2-user/kklab/data/glove\"\n",
    "    glove_dict = dict()\n",
    "    glove_mat = os.path.join(glove_dir,\"glove.6B.\"+str(dim)+\"d.txt\")\n",
    "    with open(glove_mat) as f:\n",
    "        for line in f:\n",
    "            l = line.strip().split(' ')\n",
    "            word = l[0]\n",
    "            vec = [float(l[i+1]) for i in range(dim)]\n",
    "            assert(len(vec)==dim)\n",
    "            glove_dict[word] = vec\n",
    "                \n",
    "    return glove_dict\n",
    "glove_dict = load_glove(300)"
   ]
  },
  {
   "cell_type": "code",
   "execution_count": 3,
   "metadata": {
    "collapsed": false
   },
   "outputs": [
    {
     "name": "stdout",
     "output_type": "stream",
     "text": [
      "300\n",
      "300\n",
      "400000\n",
      "3000000\n"
     ]
    }
   ],
   "source": [
    "print(len(glove_dict['computer']))\n",
    "print(len(model.wv['computer']))\n",
    "print(len(glove_dict))\n",
    "print(len(model.vocab))"
   ]
  },
  {
   "cell_type": "code",
   "execution_count": 6,
   "metadata": {
    "collapsed": false
   },
   "outputs": [
    {
     "name": "stdout",
     "output_type": "stream",
     "text": [
      "The autoreload extension is already loaded. To reload it, use:\n",
      "  %reload_ext autoreload\n",
      "0.8485595439839778\n",
      "0.8711628949137351\n",
      "0.8801426569863712\n",
      "0.8142042828531814\n",
      "0.8588393457315707\n",
      "0.8695707553177939\n"
     ]
    }
   ],
   "source": [
    "%load_ext autoreload\n",
    "%autoreload 2\n",
    "\n",
    "# train_src = \"/home/ec2-user/kklab/Projects/lrlp/experiment_2017.07.12.il3-eng.y1r1.v2/translation/train/src_raw.il3.train.y1r1.v2\"\n",
    "# train_tgt = \"/home/ec2-user/kklab/Projects/lrlp/experiment_2017.07.12.il3-eng.y1r1.v2/translation/train/ref_raw.eng.train.y1r1.v2\"\n",
    "# dev_src = \"/home/ec2-user/kklab/Projects/lrlp/experiment_2017.07.12.il3-eng.y1r1.v2/translation/dev/src_raw.il3.dev.y1r1.v2\"\n",
    "# dev_tgt = \"/home/ec2-user/kklab/Projects/lrlp/experiment_2017.07.12.il3-eng.y1r1.v2/translation/dev/ref_raw.eng.dev.y1r1.v2\"\n",
    "# test_src = \"/home/ec2-user/kklab/Projects/lrlp/experiment_2017.07.12.il3-eng.y1r1.v2/translation/test/src_raw.il3.test.y1r1.v2\"\n",
    "# test_tgt = \"/home/ec2-user/kklab/Projects/lrlp/experiment_2017.07.12.il3-eng.y1r1.v2/translation/test/ref_raw.eng.test.y1r1.v2\"\n",
    "# bilingual_lexicon = \"/home/ec2-user/kklab/data/lorelei/LEXICONS/clean-merged/clean-merged/uig-eng.masterlex.txt\"\n",
    "\n",
    "train_src = \"/home/ec2-user/kklab/Projects/lrlp/experiment_2017.08.04.vie-eng.y1r1.v2/translation/train/src_raw.vie.train.y1r1.v2\"\n",
    "train_tgt = \"/home/ec2-user/kklab/Projects/lrlp/experiment_2017.08.04.vie-eng.y1r1.v2/translation/train/ref_raw.eng.train.y1r1.v2\"\n",
    "dev_src = \"/home/ec2-user/kklab/Projects/lrlp/experiment_2017.08.04.vie-eng.y1r1.v2/translation/dev/src_raw.vie.dev.y1r1.v2\"\n",
    "dev_tgt = \"/home/ec2-user/kklab/Projects/lrlp/experiment_2017.08.04.vie-eng.y1r1.v2/translation/dev/ref_raw.eng.dev.y1r1.v2\"\n",
    "test_src = \"/home/ec2-user/kklab/Projects/lrlp/experiment_2017.08.04.vie-eng.y1r1.v2/translation/test/src_raw.vie.test.y1r1.v2\"\n",
    "test_tgt = \"/home/ec2-user/kklab/Projects/lrlp/experiment_2017.08.04.vie-eng.y1r1.v2/translation/test/ref_raw.eng.test.y1r1.v2\"\n",
    "bilingual_lexicon = \"/home/ec2-user/kklab/data/lorelei/LEXICONS/clean-merged/clean-merged/vie-eng.masterlex.txt\"\n",
    "\n",
    "from count_coverage import *\n",
    "\n",
    "lexicon_dict = get_lexicon_dict(bilingual_lexicon)\n",
    "training_src_vocab_set = get_vocab_set(train_src)\n",
    "dev_src_vocab_set = get_vocab_set(dev_src)\n",
    "test_src_vocab_set = get_vocab_set(test_src)\n",
    "#get_test_coverage_type_based(test_src_vocab_set, training_src_vocab_set, lexicon_dict)\n",
    "\n",
    "def get_embedding_coverage(src_vocab_set, lexicon_dict, model):\n",
    "    '''\n",
    "    for word2vec, model == model.vocab\n",
    "    for glove, model == glove_dict\n",
    "    '''\n",
    "    tgt_word_set_translated_by_lexicon = set()\n",
    "    for src_word in src_vocab_set:\n",
    "        if src_word in lexicon_dict:\n",
    "            for tgt_word in lexicon_dict[src_word]:\n",
    "                for w in tgt_word.split(' '):\n",
    "                    tgt_word_set_translated_by_lexicon.add(w)\n",
    "    ctr = 0\n",
    "    for tgt_word in tgt_word_set_translated_by_lexicon:\n",
    "        if tgt_word in model:\n",
    "            ctr += 1\n",
    "    return ctr*1.0/len(tgt_word_set_translated_by_lexicon)\n",
    "\n",
    "print(get_embedding_coverage(training_src_vocab_set, lexicon_dict, model.vocab))\n",
    "print(get_embedding_coverage(dev_src_vocab_set, lexicon_dict, model.vocab))\n",
    "print(get_embedding_coverage(test_src_vocab_set, lexicon_dict, model.vocab))\n",
    "print(get_embedding_coverage(training_src_vocab_set, lexicon_dict, glove_dict))\n",
    "print(get_embedding_coverage(dev_src_vocab_set, lexicon_dict, glove_dict))\n",
    "print(get_embedding_coverage(test_src_vocab_set, lexicon_dict, glove_dict))\n"
   ]
  },
  {
   "cell_type": "code",
   "execution_count": null,
   "metadata": {
    "collapsed": true
   },
   "outputs": [],
   "source": []
  }
 ],
 "metadata": {
  "kernelspec": {
   "display_name": "Python 3",
   "language": "python",
   "name": "python3"
  },
  "language_info": {
   "codemirror_mode": {
    "name": "ipython",
    "version": 3
   },
   "file_extension": ".py",
   "mimetype": "text/x-python",
   "name": "python",
   "nbconvert_exporter": "python",
   "pygments_lexer": "ipython3",
   "version": "3.6.0"
  }
 },
 "nbformat": 4,
 "nbformat_minor": 2
}
