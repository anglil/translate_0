{
 "cells": [
  {
   "cell_type": "code",
   "execution_count": 1,
   "metadata": {
    "collapsed": false
   },
   "outputs": [],
   "source": [
    "%matplotlib inline\n",
    "\n",
    "import sys\n",
    "\n",
    "sys.path.insert(0, '/home/ec2-user/kklab/Projects/lrlp/scripts/oov_translate')\n",
    "from config import *\n",
    "from utils import *"
   ]
  },
  {
   "cell_type": "code",
   "execution_count": 2,
   "metadata": {
    "collapsed": false
   },
   "outputs": [],
   "source": [
    "tmp_dir = exp_dir+\"oov_trans_pmi/\"\n",
    "if not os.path.exists(tmp_dir):\n",
    "    os.makedirs(tmp_dir)\n"
   ]
  },
  {
   "cell_type": "code",
   "execution_count": 3,
   "metadata": {
    "collapsed": false
   },
   "outputs": [],
   "source": [
    "def oov_trans_pmi(candidate_source, add_aligned_oov, context_scale, window_mechanism, res_file):\n",
    "    '''\n",
    "    params:\n",
    "        candidate_source: ug_dict or eng_vocab\n",
    "        add_aligned_oov: True or False\n",
    "        context_scale: bs, bp, bd, 10, 20\n",
    "        window_mechanism: boolean_window or sliding_window\n",
    "        res_file: path to oov translation result\n",
    "    return:\n",
    "        None\n",
    "    '''\n",
    "    \n",
    "    ### compile java code\n",
    "    print(\"cd /home/ec2-user/kklab/Projects/lrlp/scripts/oov_translate/method_pmi/; \"+\\\n",
    "          \"javac -Xlint:deprecation -cp .\"+\\\n",
    "          \":\"+commons_lang_jar+\\\n",
    "          \":\"+palmetto_jar+\\\n",
    "          \" CoOccurThreaded.java\")\n",
    "    \n",
    "    print(\"cd /home/ec2-user/kklab/Projects/lrlp/scripts/oov_translate/method_pmi/; \"+\\\n",
    "          \"java -Xmx2048m -cp .\"+\\\n",
    "          \":\"+commons_lang_jar+\\\n",
    "          \":\"+palmetto_jar+\\\n",
    "          \" CoOccurThreaded \"+\\\n",
    "          \" \".join([candidate_source, \\\n",
    "                    str(add_aligned_oov), \\\n",
    "                    context_scale, \\\n",
    "                    window_mechanism, \\\n",
    "                    res_file, \\\n",
    "                    tra_file, \\\n",
    "                    oov_file, \\\n",
    "                    ref_file, \\\n",
    "                    oov_candidates_file, \\\n",
    "                    eng_vocab_file, \\\n",
    "                    oov_aligned_file, \\\n",
    "                    tmp_dir, \\\n",
    "                    index_dir]))"
   ]
  },
  {
   "cell_type": "code",
   "execution_count": 4,
   "metadata": {
    "collapsed": false
   },
   "outputs": [
    {
     "name": "stdout",
     "output_type": "stream",
     "text": [
      "cd /home/ec2-user/kklab/Projects/lrlp/scripts/oov_translate/method_pmi/; javac -Xlint:deprecation -cp .:/home/ec2-user/kklab/src/commons-lang3-3.5/commons-lang3-3.5.jar:/home/ec2-user/kklab/src/Palmetto/palmetto/target/palmetto-0.1.0-jar-with-dependencies.jar CoOccurThreaded.java\n",
      "cd /home/ec2-user/kklab/Projects/lrlp/scripts/oov_translate/method_pmi/; java -Xmx2048m -cp .:/home/ec2-user/kklab/src/commons-lang3-3.5/commons-lang3-3.5.jar:/home/ec2-user/kklab/src/Palmetto/palmetto/target/palmetto-0.1.0-jar-with-dependencies.jar CoOccurThreaded ug_dict True bd boolean_window /home/ec2-user/kklab/Projects/lrlp/experiment_elisa.yor-eng.y2r1.v1/translation/dev/elisa.yor-eng.dev.y2r1.v1.translated.eng.oovtranslated.ug_dict_withAlignedOov.boolean_window_bd /home/ec2-user/kklab/Projects/lrlp/experiment_elisa.yor-eng.y2r1.v1/translation/dev/elisa.yor-eng.dev.y2r1.v1.translated.eng /home/ec2-user/kklab/Projects/lrlp/experiment_elisa.yor-eng.y2r1.v1/translation/dev/oov/oov_dev /home/ec2-user/kklab/data/ELISA/evals/y2/JMIST/elisa.yor.package.y2r1.v1/dev/elisa.yor-eng.dev.y2r1.v1.true.eng /home/ec2-user/kklab/Projects/lrlp/experiment_elisa.yor-eng.y2r1.v1/translation/dev/oov/yor.elisa.dev.combined.output /home/ec2-user/kklab/data/google-10000-english/20k.txt /home/ec2-user/kklab/Projects/lrlp/experiment_elisa.yor-eng.y2r1.v1/translation/dev/oov/oov_aligned /home/ec2-user/kklab/Projects/lrlp/experiment_elisa.yor-eng.y2r1.v1/oov_trans_pmi/ /home/ec2-user/kklab/data/wiki/\n"
     ]
    }
   ],
   "source": [
    "# -------- hyperparameters specific to this method --------\n",
    "### eng_vacab or ug_dict\n",
    "candidate_source = \"ug_dict\"\n",
    "### whether to add aligned oov, only applied in \"ug_dict\" \n",
    "add_aligned_oov = True\n",
    "### context derived from sentence (bs), paragraph (bp) or document (bd), or window size (e.g. 10)\n",
    "context_scale = \"bd\"\n",
    "### boolean_window or sliding_window, only consider boolean_window\n",
    "window_mechanism = \"boolean_window\"\n",
    "\n",
    "# -------- write --------\n",
    "res_file = \".\".join([tra_file,\\\n",
    "                     \"oovtranslated\",\\\n",
    "                     candidate_source,\\\n",
    "                     window_mechanism+\"_\"+context_scale])\n",
    "if candidate_source is \"ug_dict\":\n",
    "    if add_aligned_oov:\n",
    "        res_file = \".\".join([tra_file,\\\n",
    "                             \"oovtranslated\",\\\n",
    "                             candidate_source+\"_withAlignedOov\",\\\n",
    "                             window_mechanism+\"_\"+context_scale])\n",
    "    else:\n",
    "        res_file = \".\".join([tra_file,\\\n",
    "                             \"oovtranslated\",\\\n",
    "                             candidate_source+\"_withoutAlignedOov\",\\\n",
    "                             window_mechanism+\"_\"+context_scale])\n",
    "\n",
    "# -------- translate --------\n",
    "oov_trans_pmi(candidate_source, add_aligned_oov, context_scale, window_mechanism, res_file)"
   ]
  },
  {
   "cell_type": "code",
   "execution_count": null,
   "metadata": {
    "collapsed": true
   },
   "outputs": [],
   "source": []
  }
 ],
 "metadata": {
  "anaconda-cloud": {},
  "kernelspec": {
   "display_name": "Python 3",
   "language": "python",
   "name": "python3"
  },
  "language_info": {
   "codemirror_mode": {
    "name": "ipython",
    "version": 3
   },
   "file_extension": ".py",
   "mimetype": "text/x-python",
   "name": "python",
   "nbconvert_exporter": "python",
   "pygments_lexer": "ipython3",
   "version": "3.6.0"
  }
 },
 "nbformat": 4,
 "nbformat_minor": 1
}
